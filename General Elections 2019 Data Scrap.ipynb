{
 "cells": [
  {
   "cell_type": "markdown",
   "metadata": {},
   "source": [
    "# Code for scraping 2019 Indian Lok Sabha election result data from Election Commission of India (ECI) website"
   ]
  },
  {
   "cell_type": "markdown",
   "metadata": {},
   "source": [
    "#### Import modules required"
   ]
  },
  {
   "cell_type": "code",
   "execution_count": null,
   "metadata": {},
   "outputs": [],
   "source": [
    "from bs4 import BeautifulSoup\n",
    "import requests\n",
    "from pprint import pprint\n",
    "import pandas as pd\n",
    "import numpy as np"
   ]
  },
  {
   "cell_type": "markdown",
   "metadata": {},
   "source": [
    "#### Read State and Constituency codes from local file"
   ]
  },
  {
   "cell_type": "code",
   "execution_count": null,
   "metadata": {},
   "outputs": [],
   "source": [
    "with open(\"state_constituency_codes.html\") as fp:\n",
    "    soup = BeautifulSoup(fp)"
   ]
  },
  {
   "cell_type": "code",
   "execution_count": null,
   "metadata": {},
   "outputs": [],
   "source": [
    "state_constituency_codes = []\n",
    "column_names = ['state', 'state_code', 'constituency', 'constituency_code', 'candidate_name', 'party', 'evm_votes', 'postal_votes', 'total_votes', \"percent_of_votes\"]\n",
    "df = pd.DataFrame(columns=column_names)"
   ]
  },
  {
   "cell_type": "code",
   "execution_count": null,
   "metadata": {},
   "outputs": [],
   "source": [
    "for input in soup.find_all('input'):\n",
    "    state_code = input['id']\n",
    "    constituency_codes = [j for k in input['value'].split(\";\") if k != '' for j in k.split(\",\")[0:1]]\n",
    "    state_constituency_codes.append({\"state_code\": state_code, \"constituency_codes\": constituency_codes})"
   ]
  },
  {
   "cell_type": "markdown",
   "metadata": {},
   "source": [
    "#### Make requests to ECI website and scrap relevant data"
   ]
  },
  {
   "cell_type": "code",
   "execution_count": null,
   "metadata": {},
   "outputs": [],
   "source": [
    "# [0:13],[13:14],[14:len(state_constituency_codes)]\n",
    "# We will have to run below code thrice using different sublist of state_constituency_codes \n",
    "# defined above\n",
    "# because data for jammu & kashmir state has some extra data (migrant votes)\n",
    "\n",
    "column_names = ['state', 'state_code', 'constituency', 'constituency_code', 'candidate_name', 'party', 'evm_votes', 'postal_votes', 'total_votes', \"percent_of_votes\"]\n",
    "#must use column_names in next line when using sublist[13:14]\n",
    "#column_names = ['state', 'state_code', 'constituency', 'constituency_code', 'candidate_name', 'party', 'evm_votes', 'migrant_votes', 'postal_votes', 'total_votes', \"percent_of_votes\"]\n",
    "for item in state_constituency_codes[0:13]: #again run same code by replacing [0:13] with [13:14] & [14:len(state_constituency_codes)]\n",
    "    state_code = item['state_code']\n",
    "    print(state_code, end=\"\\n----------\\n\")\n",
    "    for code in item[\"constituency_codes\"]:\n",
    "        constituency_code = code\n",
    "        url = \"http://results.eci.gov.in/pc/en/constituencywise/Constituencywise\" + state_code + constituency_code + \".htm\"\n",
    "        response = requests.get(\n",
    "            url,\n",
    "            params={'ac': constituency_code}\n",
    "        )\n",
    "        soup = BeautifulSoup(response.content, \"html.parser\")\n",
    "        body = soup.body\n",
    "        tables = body.find_all('table')\n",
    "        table = tables[10]\n",
    "        tbody = table.tbody\n",
    "        trs = tbody.find_all('tr')\n",
    "        state_cons = trs[0].text.strip().split(\"-\", 1)\n",
    "        state, constituency = [item for item in state_cons]\n",
    "        for tr in trs[3: -1]:\n",
    "            new_row = [state, state_code, constituency, constituency_code]\n",
    "            tds = tr.find_all('td')\n",
    "            for td in tds[1:len(tds)]:\n",
    "                new_row.append(td.text.strip())\n",
    "            new_df = pd.DataFrame(np.array(new_row).reshape(1,len(new_row)), columns=column_names)\n",
    "            df = df.append(new_df, ignore_index=True, sort=False)\n",
    "print('<--EXIT-->')"
   ]
  },
  {
   "cell_type": "code",
   "execution_count": null,
   "metadata": {},
   "outputs": [],
   "source": [
    "df.shape"
   ]
  },
  {
   "cell_type": "code",
   "execution_count": null,
   "metadata": {},
   "outputs": [],
   "source": [
    "# df['migrant_votes'].fillna(0, inplace=True)\n",
    "df['evm_votes'] = pd.to_numeric(df['evm_votes'])\n",
    "df['postal_votes'] = pd.to_numeric(df['postal_votes'])\n",
    "df['total_votes'] = pd.to_numeric(df['total_votes'])\n",
    "df['percent_of_votes'] = pd.to_numeric(df['percent_of_votes'])\n",
    "df['migrant_votes'] = pd.to_numeric(df['migrant_votes'])"
   ]
  },
  {
   "cell_type": "markdown",
   "metadata": {},
   "source": [
    "#### Save data in local csv file"
   ]
  },
  {
   "cell_type": "code",
   "execution_count": null,
   "metadata": {},
   "outputs": [],
   "source": [
    "df.to_csv('Election Results 2019.csv')"
   ]
  }
 ],
 "metadata": {
  "kernelspec": {
   "display_name": "Python 3",
   "language": "python",
   "name": "python3"
  },
  "language_info": {
   "codemirror_mode": {
    "name": "ipython",
    "version": 3
   },
   "file_extension": ".py",
   "mimetype": "text/x-python",
   "name": "python",
   "nbconvert_exporter": "python",
   "pygments_lexer": "ipython3",
   "version": "3.7.1"
  }
 },
 "nbformat": 4,
 "nbformat_minor": 2
}
